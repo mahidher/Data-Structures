{
  "nbformat": 4,
  "nbformat_minor": 0,
  "metadata": {
    "colab": {
      "name": "Arrays Practise.ipynb",
      "provenance": []
    },
    "kernelspec": {
      "name": "python3",
      "display_name": "Python 3"
    }
  },
  "cells": [
    {
      "cell_type": "markdown",
      "metadata": {
        "id": "B4nOq4q92KWe",
        "colab_type": "text"
      },
      "source": [
        "Dynamic Array"
      ]
    },
    {
      "cell_type": "code",
      "metadata": {
        "id": "ZwqUfqe22JoA",
        "colab_type": "code",
        "colab": {
          "base_uri": "https://localhost:8080/",
          "height": 34
        },
        "outputId": "080131c7-376a-487f-d990-b2ba0980840a"
      },
      "source": [
        "a =[1,2,3,4]\n",
        "\n",
        "a"
      ],
      "execution_count": null,
      "outputs": [
        {
          "output_type": "execute_result",
          "data": {
            "text/plain": [
              "[1, 2, 3, 4]"
            ]
          },
          "metadata": {
            "tags": []
          },
          "execution_count": 1
        }
      ]
    },
    {
      "cell_type": "code",
      "metadata": {
        "id": "qUi4_bAb2VAZ",
        "colab_type": "code",
        "colab": {
          "base_uri": "https://localhost:8080/",
          "height": 34
        },
        "outputId": "84e79a3c-158a-46c9-b205-477062508da6"
      },
      "source": [
        "b = [0]*len(a)*2\n",
        "b"
      ],
      "execution_count": null,
      "outputs": [
        {
          "output_type": "execute_result",
          "data": {
            "text/plain": [
              "[0, 0, 0, 0, 0, 0, 0, 0]"
            ]
          },
          "metadata": {
            "tags": []
          },
          "execution_count": 3
        }
      ]
    },
    {
      "cell_type": "code",
      "metadata": {
        "id": "1Qyr6Cyy2dVv",
        "colab_type": "code",
        "colab": {
          "base_uri": "https://localhost:8080/",
          "height": 34
        },
        "outputId": "f2f134d9-bd3c-44e0-98ce-81b6300d4c35"
      },
      "source": [
        "b[:len(a)]=a\n",
        "b"
      ],
      "execution_count": null,
      "outputs": [
        {
          "output_type": "execute_result",
          "data": {
            "text/plain": [
              "[1, 2, 3, 4, 0, 0, 0, 0]"
            ]
          },
          "metadata": {
            "tags": []
          },
          "execution_count": 5
        }
      ]
    },
    {
      "cell_type": "code",
      "metadata": {
        "id": "jpc2mggY2i3X",
        "colab_type": "code",
        "colab": {
          "base_uri": "https://localhost:8080/",
          "height": 34
        },
        "outputId": "14e7f884-a082-400a-d541-7aa81bff3696"
      },
      "source": [
        "a = b\n",
        "a"
      ],
      "execution_count": null,
      "outputs": [
        {
          "output_type": "execute_result",
          "data": {
            "text/plain": [
              "[1, 2, 3, 4, 0, 0, 0, 0]"
            ]
          },
          "metadata": {
            "tags": []
          },
          "execution_count": 7
        }
      ]
    },
    {
      "cell_type": "code",
      "metadata": {
        "id": "gFNY6VB8EO1k",
        "colab_type": "code",
        "colab": {}
      },
      "source": [
        "import ctypes"
      ],
      "execution_count": null,
      "outputs": []
    },
    {
      "cell_type": "code",
      "metadata": {
        "id": "Dlg2XN4eDqM3",
        "colab_type": "code",
        "colab": {}
      },
      "source": [
        "class DynamicArray:\n",
        "\n",
        "  def __init__(self):\n",
        "    self.n=0\n",
        "    self.capacity= 1\n",
        "    self.A = self.make_array(self.capacity)\n",
        "    print(\"Initialised\" ,self.A)\n",
        "\n",
        "  def make_array(self,cap):\n",
        "    return [None]*cap\n",
        "\n",
        "  def append(self,value):\n",
        "    if(self.capacity<=self.n):\n",
        "      self.resize_array(self.capacity * 2)\n",
        "      \n",
        "    self.A[self.n] = value\n",
        "    self.n+=1\n",
        "    print(\"result_Array=\", self.A)\n",
        "\n",
        "  def resize_array(self,new_cap):\n",
        "    self.B = self.make_array(new_cap)\n",
        "    self.B[:self.n] = self.A\n",
        "    self.A = self.B\n",
        "    self.capacity=new_cap\n",
        "  \n",
        "\n",
        "\n",
        "\n",
        "\n",
        "  "
      ],
      "execution_count": null,
      "outputs": []
    },
    {
      "cell_type": "code",
      "metadata": {
        "id": "sDWqFkw_D9cl",
        "colab_type": "code",
        "colab": {
          "base_uri": "https://localhost:8080/",
          "height": 84
        },
        "outputId": "0525881c-8a47-4a69-8329-b2e4781d9d2e"
      },
      "source": [
        "dy = DynamicArray()\n",
        "dy.append(10)\n",
        "dy.n\n",
        "dy.capacity\n",
        "dy.append(20)\n",
        "dy.capacity\n",
        "dy.append(30)\n",
        "\n",
        "\n",
        "\n"
      ],
      "execution_count": null,
      "outputs": [
        {
          "output_type": "stream",
          "text": [
            "Initialised [None]\n",
            "result_Array= [10]\n",
            "result_Array= [10, 20]\n",
            "result_Array= [10, 20, 30, None]\n"
          ],
          "name": "stdout"
        }
      ]
    },
    {
      "cell_type": "code",
      "metadata": {
        "id": "EBDrtIkyolzp",
        "colab_type": "code",
        "colab": {}
      },
      "source": [
        ""
      ],
      "execution_count": null,
      "outputs": []
    },
    {
      "cell_type": "code",
      "metadata": {
        "id": "vYRos8Nnol14",
        "colab_type": "code",
        "colab": {}
      },
      "source": [
        ""
      ],
      "execution_count": null,
      "outputs": []
    },
    {
      "cell_type": "markdown",
      "metadata": {
        "id": "ucH3NKg5ovMx",
        "colab_type": "text"
      },
      "source": [
        "ANAGRAM CHECK"
      ]
    },
    {
      "cell_type": "code",
      "metadata": {
        "id": "91BpnwbRpMfu",
        "colab_type": "code",
        "colab": {}
      },
      "source": [
        "x = 'clint eastwood'\n",
        "y = 'old west action'"
      ],
      "execution_count": null,
      "outputs": []
    },
    {
      "cell_type": "code",
      "metadata": {
        "id": "i7t31ZGcpTp-",
        "colab_type": "code",
        "colab": {}
      },
      "source": [
        "x = x.replace(' ','')\n",
        "y = y.replace(' ','')\n",
        "\n",
        "\n"
      ],
      "execution_count": null,
      "outputs": []
    },
    {
      "cell_type": "code",
      "metadata": {
        "id": "LdtplCNsppem",
        "colab_type": "code",
        "colab": {}
      },
      "source": [
        "x = list(x)\n",
        "y = list(y)"
      ],
      "execution_count": null,
      "outputs": []
    },
    {
      "cell_type": "code",
      "metadata": {
        "id": "6JCGJ6S2p6We",
        "colab_type": "code",
        "colab": {}
      },
      "source": [
        "x.sort()\n",
        "y.sort()"
      ],
      "execution_count": null,
      "outputs": []
    },
    {
      "cell_type": "code",
      "metadata": {
        "id": "oM0sYkgEqIbf",
        "colab_type": "code",
        "colab": {}
      },
      "source": [
        "if x==y:\n",
        "  print(\"True\")"
      ],
      "execution_count": null,
      "outputs": []
    },
    {
      "cell_type": "code",
      "metadata": {
        "id": "Oe6w4yZRowod",
        "colab_type": "code",
        "colab": {}
      },
      "source": [
        "anagram('clint eastwood','old west action')"
      ],
      "execution_count": null,
      "outputs": []
    },
    {
      "cell_type": "code",
      "metadata": {
        "id": "jzEcuiAQpxPG",
        "colab_type": "code",
        "colab": {
          "base_uri": "https://localhost:8080/",
          "height": 50
        },
        "outputId": "845195fc-e9d0-46b6-d85a-3ee89e5dcbaf"
      },
      "source": [
        "print(x)\n",
        "print(y)"
      ],
      "execution_count": null,
      "outputs": [
        {
          "output_type": "stream",
          "text": [
            "['a', 'c', 'd', 'e', 'i', 'l', 'n', 'o', 'o', 's', 't', 't', 'w']\n",
            "['a', 'c', 'd', 'e', 'i', 'l', 'n', 'o', 'o', 's', 't', 't', 'w']\n"
          ],
          "name": "stdout"
        }
      ]
    },
    {
      "cell_type": "code",
      "metadata": {
        "id": "XadwuTIBqmBV",
        "colab_type": "code",
        "colab": {}
      },
      "source": [
        "def sol(x,y):\n",
        "  x = x.replace(' ','')\n",
        "  y = y.replace(' ','')\n",
        "  x = list(x)\n",
        "  y = list(y)\n",
        "  x.sort()\n",
        "  y.sort()\n",
        "  if x==y:\n",
        "    return True\n",
        "  else:\n",
        "    return False\n",
        "\n"
      ],
      "execution_count": null,
      "outputs": []
    },
    {
      "cell_type": "code",
      "metadata": {
        "id": "TCwshcijqc3F",
        "colab_type": "code",
        "colab": {
          "base_uri": "https://localhost:8080/",
          "height": 118
        },
        "outputId": "a3a02052-9d3a-4936-f1f9-c6f74b2b0f04"
      },
      "source": [
        "  \n",
        " \n",
        "  print(sol('go go go','gggooo'))\n",
        "  print(sol('abc','cba'))\n",
        "  print(sol('hi man','hi     man'))\n",
        "  print(sol('aabbcc','aabbc'))\n",
        "  print(sol('123','1 2'))\n",
        "  print('ALL TEST CASES PASSED')"
      ],
      "execution_count": null,
      "outputs": [
        {
          "output_type": "stream",
          "text": [
            "True\n",
            "True\n",
            "True\n",
            "False\n",
            "False\n",
            "ALL TEST CASES PASSED\n"
          ],
          "name": "stdout"
        }
      ]
    },
    {
      "cell_type": "code",
      "metadata": {
        "id": "XpuDvTidtEWh",
        "colab_type": "code",
        "colab": {}
      },
      "source": [
        ""
      ],
      "execution_count": null,
      "outputs": []
    }
  ]
}