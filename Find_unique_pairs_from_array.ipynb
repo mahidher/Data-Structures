{
  "nbformat": 4,
  "nbformat_minor": 0,
  "metadata": {
    "colab": {
      "name": "Find unique pairs from array.ipynb",
      "provenance": [],
      "collapsed_sections": [],
      "authorship_tag": "ABX9TyNnr0/5C5BCLgSsczQKR1z3",
      "include_colab_link": true
    },
    "kernelspec": {
      "name": "python3",
      "display_name": "Python 3"
    }
  },
  "cells": [
    {
      "cell_type": "markdown",
      "metadata": {
        "id": "view-in-github",
        "colab_type": "text"
      },
      "source": [
        "<a href=\"https://colab.research.google.com/github/mahidher/Data-Structures/blob/master/Find_unique_pairs_from_array.ipynb\" target=\"_parent\"><img src=\"https://colab.research.google.com/assets/colab-badge.svg\" alt=\"Open In Colab\"/></a>"
      ]
    },
    {
      "cell_type": "code",
      "metadata": {
        "id": "bG5ZCdktUtgz",
        "colab_type": "code",
        "colab": {}
      },
      "source": [
        "def pair_sum(input_array,sum):\n",
        "  uniquelist=[]\n",
        "  input_array.sort()\n",
        "  print(input_array)\n",
        "  for i in range(0,len(input_array)-2):\n",
        "    for j in range(i+1,len(input_array)-1):\n",
        "      unique = (input_array[i],input_array[j])\n",
        "      if((input_array[i]+input_array[j])==sum and unique not in uniquelist):\n",
        "        uniquelist.append(unique)\n",
        "\n",
        "\n",
        "  print(uniquelist)\n"
      ],
      "execution_count": 75,
      "outputs": []
    },
    {
      "cell_type": "code",
      "metadata": {
        "id": "zlbKkFntVB34",
        "colab_type": "code",
        "colab": {
          "base_uri": "https://localhost:8080/",
          "height": 50
        },
        "outputId": "2f9e6434-c97b-4eca-c42b-0d7775eb8e59"
      },
      "source": [
        "pair_sum([1,9,2,8,3,7,4,6,5,5,13,14,11,13,-1],10)"
      ],
      "execution_count": 76,
      "outputs": [
        {
          "output_type": "stream",
          "text": [
            "[-1, 1, 2, 3, 4, 5, 5, 6, 7, 8, 9, 11, 13, 13, 14]\n",
            "[(-1, 11), (1, 9), (2, 8), (3, 7), (4, 6), (5, 5)]\n"
          ],
          "name": "stdout"
        }
      ]
    }
  ]
}