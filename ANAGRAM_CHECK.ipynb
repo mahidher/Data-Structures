{
  "nbformat": 4,
  "nbformat_minor": 0,
  "metadata": {
    "colab": {
      "name": "ANAGRAM CHECK.ipynb",
      "provenance": [],
      "collapsed_sections": [],
      "authorship_tag": "ABX9TyNzVVXKoYxYWg9zV1Cpxrg1",
      "include_colab_link": true
    },
    "kernelspec": {
      "name": "python3",
      "display_name": "Python 3"
    }
  },
  "cells": [
    {
      "cell_type": "markdown",
      "metadata": {
        "id": "view-in-github",
        "colab_type": "text"
      },
      "source": [
        "<a href=\"https://colab.research.google.com/github/mahidher/Data-Structures/blob/master/ANAGRAM_CHECK.ipynb\" target=\"_parent\"><img src=\"https://colab.research.google.com/assets/colab-badge.svg\" alt=\"Open In Colab\"/></a>"
      ]
    },
    {
      "cell_type": "markdown",
      "metadata": {
        "id": "he2MBKN_FuVa",
        "colab_type": "text"
      },
      "source": [
        "ANAGRAM CHECK\n"
      ]
    },
    {
      "cell_type": "code",
      "metadata": {
        "id": "91BpnwbRpMfu",
        "colab_type": "code",
        "colab": {}
      },
      "source": [
        "x = 'clint eastwood'\n",
        "y = 'old west action'"
      ],
      "execution_count": null,
      "outputs": []
    },
    {
      "cell_type": "code",
      "metadata": {
        "id": "i7t31ZGcpTp-",
        "colab_type": "code",
        "colab": {}
      },
      "source": [
        "x = x.replace(' ','')\n",
        "y = y.replace(' ','')\n",
        "\n",
        "\n"
      ],
      "execution_count": null,
      "outputs": []
    },
    {
      "cell_type": "code",
      "metadata": {
        "id": "LdtplCNsppem",
        "colab_type": "code",
        "colab": {}
      },
      "source": [
        "x = list(x)\n",
        "y = list(y)"
      ],
      "execution_count": null,
      "outputs": []
    },
    {
      "cell_type": "code",
      "metadata": {
        "id": "6JCGJ6S2p6We",
        "colab_type": "code",
        "colab": {}
      },
      "source": [
        "x.sort()\n",
        "y.sort()"
      ],
      "execution_count": null,
      "outputs": []
    },
    {
      "cell_type": "code",
      "metadata": {
        "id": "oM0sYkgEqIbf",
        "colab_type": "code",
        "colab": {
          "base_uri": "https://localhost:8080/",
          "height": 35
        },
        "outputId": "0cfcf3b7-b4c8-4433-9d67-86f8bf7fd62c"
      },
      "source": [
        "if x==y:\n",
        "  print(\"True\")"
      ],
      "execution_count": null,
      "outputs": [
        {
          "output_type": "stream",
          "text": [
            "True\n"
          ],
          "name": "stdout"
        }
      ]
    },
    {
      "cell_type": "code",
      "metadata": {
        "id": "Oe6w4yZRowod",
        "colab_type": "code",
        "colab": {}
      },
      "source": [
        "#anagram('clint eastwood','old west action')"
      ],
      "execution_count": null,
      "outputs": []
    },
    {
      "cell_type": "code",
      "metadata": {
        "id": "jzEcuiAQpxPG",
        "colab_type": "code",
        "colab": {
          "base_uri": "https://localhost:8080/",
          "height": 52
        },
        "outputId": "1b8b5947-5d40-4441-9edc-222c731857f4"
      },
      "source": [
        "print(x)\n",
        "print(y)"
      ],
      "execution_count": null,
      "outputs": [
        {
          "output_type": "stream",
          "text": [
            "['a', 'c', 'd', 'e', 'i', 'l', 'n', 'o', 'o', 's', 't', 't', 'w']\n",
            "['a', 'c', 'd', 'e', 'i', 'l', 'n', 'o', 'o', 's', 't', 't', 'w']\n"
          ],
          "name": "stdout"
        }
      ]
    },
    {
      "cell_type": "code",
      "metadata": {
        "id": "XadwuTIBqmBV",
        "colab_type": "code",
        "colab": {}
      },
      "source": [
        "def sol(x,y):\n",
        "  x = x.replace(' ','')\n",
        "  y = y.replace(' ','')\n",
        "  x = list(x)\n",
        "  y = list(y)\n",
        "  x.sort()\n",
        "  y.sort()\n",
        "  if x==y:\n",
        "    return True\n",
        "  else:\n",
        "    return False\n",
        "\n"
      ],
      "execution_count": null,
      "outputs": []
    },
    {
      "cell_type": "code",
      "metadata": {
        "id": "TCwshcijqc3F",
        "colab_type": "code",
        "colab": {
          "base_uri": "https://localhost:8080/",
          "height": 124
        },
        "outputId": "285b70e5-9f2b-4708-b4e9-220bdea99948"
      },
      "source": [
        "  \n",
        " \n",
        "  print(sol('go go go','gggooo'))\n",
        "  print(sol('abc','cba'))\n",
        "  print(sol('hi man','hi     man'))\n",
        "  print(sol('aabbcc','aabbc'))\n",
        "  print(sol('123','1 2'))\n",
        "  print('ALL TEST CASES PASSED')"
      ],
      "execution_count": null,
      "outputs": [
        {
          "output_type": "stream",
          "text": [
            "True\n",
            "True\n",
            "True\n",
            "False\n",
            "False\n",
            "ALL TEST CASES PASSED\n"
          ],
          "name": "stdout"
        }
      ]
    }
  ]
}